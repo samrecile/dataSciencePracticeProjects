{
 "cells": [
  {
   "cell_type": "code",
   "execution_count": 24,
   "id": "2bdd6b69",
   "metadata": {},
   "outputs": [],
   "source": [
    "# load ds and ML libraries\n",
    "import pandas as pd\n",
    "import numpy as np\n",
    "import matplotlib as plt\n",
    "from matplotlib import pyplot as plt\n",
    "import seaborn as sns\n",
    "from scipy.stats import pearsonr\n",
    "from sklearn.linear_model import LinearRegression"
   ]
  },
  {
   "cell_type": "code",
   "execution_count": 25,
   "id": "71169135",
   "metadata": {},
   "outputs": [
    {
     "name": "stdout",
     "output_type": "stream",
     "text": [
      "   rental_id  building_id   rent  bedrooms  bathrooms  size_sqft  \\\n",
      "0       1545     44518357   2550       0.0          1        480   \n",
      "1       2472     94441623  11500       2.0          2       2000   \n",
      "2      10234     87632265   3000       3.0          1       1000   \n",
      "3       2919     76909719   4500       1.0          1        916   \n",
      "4       2790     92953520   4795       1.0          1        975   \n",
      "\n",
      "   min_to_subway  floor  building_age_yrs  no_fee  has_roofdeck  \\\n",
      "0              9    2.0                17       1             1   \n",
      "1              4    1.0                96       0             0   \n",
      "2              4    1.0               106       0             0   \n",
      "3              2   51.0                29       0             1   \n",
      "4              3    8.0                31       0             0   \n",
      "\n",
      "   has_washer_dryer  has_doorman  has_elevator  has_dishwasher  has_patio  \\\n",
      "0                 0            0             1               1          0   \n",
      "1                 0            0             0               0          0   \n",
      "2                 0            0             0               0          0   \n",
      "3                 0            1             1               1          0   \n",
      "4                 0            1             1               1          0   \n",
      "\n",
      "   has_gym       neighborhood            submarket    borough  \n",
      "0        1    Upper East Side  All Upper East Side  Manhattan  \n",
      "1        0  Greenwich Village         All Downtown  Manhattan  \n",
      "2        0            Astoria     Northwest Queens     Queens  \n",
      "3        0            Midtown          All Midtown  Manhattan  \n",
      "4        1  Greenwich Village         All Downtown  Manhattan  \n",
      "There are 5000 rentals in the data set\n"
     ]
    }
   ],
   "source": [
    "# load and inspect data\n",
    "streetEasy = pd.read_csv('streeteasy.csv')\n",
    "print(streetEasy.head())\n",
    "# confirm 5000 entries\n",
    "numRentals = streetEasy.rental_id.nunique()\n",
    "print('There are {} rentals in the data set'.format(numRentals))"
   ]
  },
  {
   "cell_type": "code",
   "execution_count": 26,
   "id": "0709ad57",
   "metadata": {},
   "outputs": [
    {
     "name": "stdout",
     "output_type": "stream",
     "text": [
      "Average rent: $4536.92\n",
      "Average square feet: 920.1\n",
      "Average price per square foot in NYC: $4.93\n"
     ]
    }
   ],
   "source": [
    "# Analyzing rent to square feet overall\n",
    "averageRent = round(np.mean(streetEasy.rent), 2)\n",
    "print('Average rent: ${}'.format(averageRent))\n",
    "averageSqft = round(np.mean(streetEasy.size_sqft), 2)\n",
    "print('Average square feet: {}'.format(averageSqft))\n",
    "priceSf = round(averageRent/averageSqft, 2)\n",
    "print('Average price per square foot in NYC: ${}'.format(priceSf))"
   ]
  },
  {
   "cell_type": "code",
   "execution_count": 29,
   "id": "58e4f55c",
   "metadata": {},
   "outputs": [
    {
     "data": {
      "image/png": "[encoded data removed]",
      "text/plain": [
       "<Figure size 432x288 with 1 Axes>"
      ]
     },
     "metadata": {
      "needs_background": "light"
     },
     "output_type": "display_data"
    }
   ],
   "source": [
    "# plot the rent to square foot relationship\n",
    "plt.scatter(streetEasy.rent, streetEasy.size_sqft)\n",
    "plt.xlabel('Rent Prices')\n",
    "plt.ylabel('Square Feet')\n",
    "plt.title('Rent vs Square Feet')\n",
    "plt.show()"
   ]
  },
  {
   "cell_type": "code",
   "execution_count": 44,
   "id": "7beabac5",
   "metadata": {},
   "outputs": [
    {
     "name": "stdout",
     "output_type": "stream",
     "text": [
      "The average price per sq foot in Upper East Side is $5.42\n",
      "The average price per sq foot in Greenwich Village is $5.93\n",
      "The average price per sq foot in Astoria is $3.12\n",
      "The average price per sq foot in Midtown is $5.65\n",
      "The average price per sq foot in Williamsburg is $4.18\n",
      "The average price per sq foot in Forest Hills is $2.39\n",
      "The average price per sq foot in Soho is $6.06\n",
      "The average price per sq foot in Central Harlem is $3.24\n",
      "The average price per sq foot in Greenwood is $3.39\n",
      "The average price per sq foot in Midtown East is $5.25\n",
      "The average price per sq foot in Battery Park City is $5.86\n",
      "The average price per sq foot in Gowanus is $3.66\n",
      "The average price per sq foot in Flatiron is $6.68\n",
      "The average price per sq foot in Brooklyn Heights is $4.72\n",
      "The average price per sq foot in East Village is $5.6\n",
      "The average price per sq foot in Midtown West is $5.37\n",
      "The average price per sq foot in Upper West Side is $5.49\n",
      "The average price per sq foot in Briarwood is $2.56\n",
      "The average price per sq foot in Lower East Side is $4.91\n",
      "The average price per sq foot in Tribeca is $6.02\n",
      "The average price per sq foot in Clinton Hill is $3.64\n",
      "The average price per sq foot in Gramercy Park is $6.12\n",
      "The average price per sq foot in Rego Park is $2.59\n",
      "The average price per sq foot in East Harlem is $3.26\n",
      "The average price per sq foot in Boerum Hill is $3.37\n",
      "The average price per sq foot in Park Slope is $3.75\n",
      "The average price per sq foot in West Village is $6.99\n",
      "The average price per sq foot in Sheepshead Bay is $2.05\n",
      "The average price per sq foot in Central Park South is $6.4\n",
      "The average price per sq foot in Long Island City is $4.28\n",
      "The average price per sq foot in Chelsea is $6.39\n",
      "The average price per sq foot in Financial District is $5.13\n",
      "The average price per sq foot in Inwood is $2.61\n",
      "The average price per sq foot in Carroll Gardens is $4.19\n",
      "The average price per sq foot in Midtown South is $5.54\n",
      "The average price per sq foot in Red Hook is $3.14\n",
      "The average price per sq foot in Fort Greene is $3.75\n",
      "The average price per sq foot in Washington Heights is $2.7\n",
      "The average price per sq foot in Downtown Brooklyn is $4.57\n",
      "The average price per sq foot in Crown Heights is $2.9\n",
      "The average price per sq foot in Chinatown is $4.65\n",
      "The average price per sq foot in Sunnyside is $2.69\n",
      "The average price per sq foot in Prospect Park South is $2.93\n",
      "The average price per sq foot in Roosevelt Island is $4.08\n",
      "The average price per sq foot in Columbia St Waterfront District is $4.21\n",
      "The average price per sq foot in Jackson Heights is $2.61\n",
      "The average price per sq foot in Greenpoint is $3.38\n",
      "The average price per sq foot in Hamilton Heights is $2.92\n",
      "The average price per sq foot in Kensington is $2.35\n",
      "The average price per sq foot in Bushwick is $2.74\n",
      "The average price per sq foot in Kew Gardens is $2.28\n",
      "The average price per sq foot in Elmhurst is $2.54\n",
      "The average price per sq foot in Brighton Beach is $2.31\n",
      "The average price per sq foot in Kew Gardens Hills is $3.32\n",
      "The average price per sq foot in Corona is $4.15\n",
      "The average price per sq foot in Prospect Heights is $3.3\n",
      "The average price per sq foot in Stuyvesant Town/PCV is $4.89\n",
      "The average price per sq foot in Richmond Hill is $2.07\n",
      "The average price per sq foot in Bedford-Stuyvesant is $2.67\n",
      "The average price per sq foot in Bay Ridge is $2.25\n",
      "The average price per sq foot in Flatbush is $2.57\n",
      "The average price per sq foot in DUMBO is $5.1\n",
      "The average price per sq foot in Jamaica Estates is $2.44\n",
      "The average price per sq foot in Brownsville is $2.15\n",
      "The average price per sq foot in Gravesend is $2.1\n",
      "The average price per sq foot in Queens Village is $2.66\n",
      "The average price per sq foot in Coney Island is $2.35\n",
      "The average price per sq foot in Woodhaven is $2.2\n",
      "The average price per sq foot in Ridgewood is $2.76\n",
      "The average price per sq foot in Morningside Heights is $3.89\n",
      "The average price per sq foot in Flushing is $2.71\n",
      "The average price per sq foot in Windsor Terrace is $3.04\n",
      "The average price per sq foot in Little Italy is $5.19\n",
      "The average price per sq foot in Cobble Hill is $4.25\n",
      "The average price per sq foot in Ocean Parkway is $1.79\n",
      "The average price per sq foot in Prospect Lefferts Gardens is $2.74\n",
      "The average price per sq foot in Sunset Park is $2.67\n",
      "The average price per sq foot in Ditmas Park is $2.88\n",
      "The average price per sq foot in Woodside is $2.55\n",
      "The average price per sq foot in Manhattan Beach is $2.47\n",
      "The average price per sq foot in Nolita is $5.96\n",
      "The average price per sq foot in Dyker Heights is $1.89\n",
      "The average price per sq foot in West Harlem is $3.01\n",
      "The average price per sq foot in Glendale is $2.0\n",
      "The average price per sq foot in Midwood is $2.44\n",
      "The average price per sq foot in East Flatbush is $1.98\n",
      "The average price per sq foot in South Richmond Hill is $2.8\n",
      "The average price per sq foot in Rockaway All is $1.89\n",
      "The average price per sq foot in Jamaica Hills is $1.88\n",
      "The average price per sq foot in North Corona is $2.77\n",
      "The average price per sq foot in Manhattanville is $2.79\n",
      "The average price per sq foot in Oakland Gardens is $2.7\n",
      "The average price per sq foot in East New York is $1.8\n"
     ]
    }
   ],
   "source": [
    "# Analyzing rent to square feet by borough & neighborhood\n",
    "uniqBoroughs = streetEasy.borough.unique()\n",
    "uniqNeighb = streetEasy.neighborhood.unique()\n",
    "\n",
    "\n",
    "# initialize lists for average rent, average sq ft, and the use those to calculate average rent per sqft in \n",
    "# each neigbborhood\n",
    "neighbRent = []\n",
    "neighbSqft = []\n",
    "neighbAvgRent = []\n",
    "for x in range(len(uniqNeighb)):\n",
    "    neighbRent.append(round(np.mean((streetEasy.rent)[streetEasy.neighborhood == uniqNeighb[x]]), 2))\n",
    "    neighbSqft.append(round(np.mean((streetEasy.size_sqft)[streetEasy.neighborhood == uniqNeighb[x]]), 2))\n",
    "\n",
    "for x in range(len(neighbRent)):\n",
    "    neighbAvgRent.append(round(neighbRent[x]/neighbSqft[x], 2))\n",
    "    \n",
    "# uncomment and run to display neighborhood sqft prices\n",
    "#for x in range(len(uniqNeighb)):\n",
    " #   print('The average price per sq foot in {} is ${}'.format(uniqNeighb[x], neighbAvgRent[x]))\n",
    "\n"
   ]
  },
  {
   "cell_type": "code",
   "execution_count": null,
   "id": "c112907f",
   "metadata": {},
   "outputs": [],
   "source": []
  }
 ],
 "metadata": {
  "kernelspec": {
   "display_name": "Python 3 (ipykernel)",
   "language": "python",
   "name": "python3"
  },
  "language_info": {
   "codemirror_mode": {
    "name": "ipython",
    "version": 3
   },
   "file_extension": ".py",
   "mimetype": "text/x-python",
   "name": "python",
   "nbconvert_exporter": "python",
   "pygments_lexer": "ipython3",
   "version": "3.9.7"
  }
 },
 "nbformat": 4,
 "nbformat_minor": 5
}
