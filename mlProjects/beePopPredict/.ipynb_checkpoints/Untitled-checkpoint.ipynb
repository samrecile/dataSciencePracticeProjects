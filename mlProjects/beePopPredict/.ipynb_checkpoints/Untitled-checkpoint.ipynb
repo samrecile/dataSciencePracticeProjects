{
 "cells": [
  {
   "cell_type": "markdown",
   "id": "308a8df6",
   "metadata": {},
   "source": [
    "# 2050 Bee Population Prediction\n",
    "### Sam Recile - 10/5/21\n",
    "*In this small project, I use scikit learn's linear regression tools to make a prediction on the bee's population in the future, based off production numbers from 1998-2013*"
   ]
  },
  {
   "cell_type": "code",
   "execution_count": 5,
   "id": "70da077f",
   "metadata": {},
   "outputs": [],
   "source": [
    "# import libraries\n",
    "import pandas as pd\n",
    "import matplotlib.pyplot as plt\n",
    "import numpy as np\n",
    "from sklearn.linear_model import LinearRegression"
   ]
  },
  {
   "cell_type": "code",
   "execution_count": 6,
   "id": "a181c78f",
   "metadata": {},
   "outputs": [
    {
     "name": "stdout",
     "output_type": "stream",
     "text": [
      "  state    numcol  yieldpercol   totalprod      stocks  priceperlb  \\\n",
      "0    AL   16000.0           71   1136000.0    159000.0        0.72   \n",
      "1    AZ   55000.0           60   3300000.0   1485000.0        0.64   \n",
      "2    AR   53000.0           65   3445000.0   1688000.0        0.59   \n",
      "3    CA  450000.0           83  37350000.0  12326000.0        0.62   \n",
      "4    CO   27000.0           72   1944000.0   1594000.0        0.70   \n",
      "\n",
      "    prodvalue  year  \n",
      "0    818000.0  1998  \n",
      "1   2112000.0  1998  \n",
      "2   2033000.0  1998  \n",
      "3  23157000.0  1998  \n",
      "4   1361000.0  1998  \n"
     ]
    }
   ],
   "source": [
    "# load df\n",
    "df = pd.read_csv(\"honeyproduction.csv\")\n",
    "print(df.head())"
   ]
  },
  {
   "cell_type": "code",
   "execution_count": 7,
   "id": "46f461f7",
   "metadata": {},
   "outputs": [
    {
     "name": "stdout",
     "output_type": "stream",
     "text": [
      "    year     totalprod\n",
      "0   1998  5.105093e+06\n",
      "1   1999  4.706674e+06\n",
      "2   2000  5.106000e+06\n",
      "3   2001  4.221545e+06\n",
      "4   2002  3.892386e+06\n",
      "5   2003  4.122091e+06\n",
      "6   2004  4.456805e+06\n",
      "7   2005  4.243146e+06\n",
      "8   2006  3.761902e+06\n",
      "9   2007  3.600512e+06\n",
      "10  2008  3.974927e+06\n",
      "11  2009  3.626700e+06\n",
      "12  2010  4.382350e+06\n",
      "13  2011  3.680025e+06\n",
      "14  2012  3.522675e+06\n"
     ]
    }
   ],
   "source": [
    "# access the production mean by year and reset the index\n",
    "prod_per_year = df.groupby('year').totalprod.mean().reset_index()\n",
    "print(prod_per_year)"
   ]
  },
  {
   "cell_type": "code",
   "execution_count": 8,
   "id": "dbf94205",
   "metadata": {},
   "outputs": [
    {
     "name": "stdout",
     "output_type": "stream",
     "text": [
      "[[1998]\n",
      " [1999]\n",
      " [2000]\n",
      " [2001]\n",
      " [2002]\n",
      " [2003]\n",
      " [2004]\n",
      " [2005]\n",
      " [2006]\n",
      " [2007]\n",
      " [2008]\n",
      " [2009]\n",
      " [2010]\n",
      " [2011]\n",
      " [2012]]\n"
     ]
    }
   ],
   "source": [
    "# access years and reshape them for use\n",
    "X = prod_per_year['year']\n",
    "X = X.values.reshape(-1, 1)\n",
    "print(X)\n",
    "\n",
    "# access total production data\n",
    "y = prod_per_year['totalprod']"
   ]
  },
  {
   "cell_type": "code",
   "execution_count": 20,
   "id": "b25c7088",
   "metadata": {},
   "outputs": [
    {
     "data": {
      "image/png": "[encoded data removed]",
      "text/plain": [
       "<Figure size 432x288 with 1 Axes>"
      ]
     },
     "metadata": {
      "needs_background": "light"
     },
     "output_type": "display_data"
    }
   ],
   "source": [
    "# plot a scatterplot to look for any trends, not plotting now \n",
    "# so regression line included\n",
    "plt.scatter(X, y)\n",
    "\n",
    "# predict line placement\n",
    "y_predicted = line_fitter.predict(X)\n",
    "\n",
    "# initialize regression model\n",
    "line_fitter = LinearRegression()\n",
    "# fit model to data\n",
    "line_fitter.fit(X, y)\n",
    "\n",
    "# plot the line on the scatter plot\n",
    "plt.plot(X, y_predicted)\n",
    "plt.title('Bee Production Growth 1998-2012')\n",
    "plt.xlabel('Year')\n",
    "plt.ylabel('Total Bee Production')\n",
    "plt.show()"
   ]
  },
  {
   "cell_type": "code",
   "execution_count": 15,
   "id": "7423936d",
   "metadata": {},
   "outputs": [
    {
     "name": "stdout",
     "output_type": "stream",
     "text": [
      "-88303.18915238192\n",
      "181208083.10732976\n"
     ]
    }
   ],
   "source": [
    "# print the slope and intercept of line\n",
    "print(line_fitter.coef_[0])\n",
    "print(line_fitter.intercept_)"
   ]
  },
  {
   "cell_type": "code",
   "execution_count": 16,
   "id": "15bca7ed",
   "metadata": {},
   "outputs": [
    {
     "name": "stdout",
     "output_type": "stream",
     "text": [
      "[2013 2014 2015 2016 2017 2018 2019 2020 2021 2022 2023 2024 2025 2026\n",
      " 2027 2028 2029 2030 2031 2032 2033 2034 2035 2036 2037 2038 2039 2040\n",
      " 2041 2042 2043 2044 2045 2046 2047 2048 2049]\n",
      "[[2013]\n",
      " [2014]\n",
      " [2015]\n",
      " [2016]\n",
      " [2017]\n",
      " [2018]\n",
      " [2019]\n",
      " [2020]\n",
      " [2021]\n",
      " [2022]\n",
      " [2023]\n",
      " [2024]\n",
      " [2025]\n",
      " [2026]\n",
      " [2027]\n",
      " [2028]\n",
      " [2029]\n",
      " [2030]\n",
      " [2031]\n",
      " [2032]\n",
      " [2033]\n",
      " [2034]\n",
      " [2035]\n",
      " [2036]\n",
      " [2037]\n",
      " [2038]\n",
      " [2039]\n",
      " [2040]\n",
      " [2041]\n",
      " [2042]\n",
      " [2043]\n",
      " [2044]\n",
      " [2045]\n",
      " [2046]\n",
      " [2047]\n",
      " [2048]\n",
      " [2049]]\n"
     ]
    }
   ],
   "source": [
    "# define future x-values, print before and after reshaping \n",
    "# to demonstrate changes\n",
    "X_future = np.array(range(2013,2050))\n",
    "print(X_future)\n",
    "X_future = X_future.reshape(-1,1)\n",
    "print(X_future)"
   ]
  },
  {
   "cell_type": "code",
   "execution_count": 17,
   "id": "ac881c49",
   "metadata": {},
   "outputs": [],
   "source": [
    "# y-value predictions\n",
    "future_predict = line_fitter.predict(X_future)"
   ]
  },
  {
   "cell_type": "code",
   "execution_count": 21,
   "id": "cea2d986",
   "metadata": {},
   "outputs": [
    {
     "data": {
      "image/png": "[encoded data removed]",
      "text/plain": [
       "<Figure size 432x288 with 1 Axes>"
      ]
     },
     "metadata": {
      "needs_background": "light"
     },
     "output_type": "display_data"
    }
   ],
   "source": [
    "# plot predictions\n",
    "plt.plot(X_future, future_predict)\n",
    "plt.title('Bee Production Growth 2013-2050')\n",
    "plt.xlabel('Year')\n",
    "plt.ylabel('Total Bee Production')\n",
    "plt.show()"
   ]
  },
  {
   "cell_type": "code",
   "execution_count": null,
   "id": "bc22bd36",
   "metadata": {},
   "outputs": [],
   "source": []
  }
 ],
 "metadata": {
  "kernelspec": {
   "display_name": "Python 3 (ipykernel)",
   "language": "python",
   "name": "python3"
  },
  "language_info": {
   "codemirror_mode": {
    "name": "ipython",
    "version": 3
   },
   "file_extension": ".py",
   "mimetype": "text/x-python",
   "name": "python",
   "nbconvert_exporter": "python",
   "pygments_lexer": "ipython3",
   "version": "3.9.6"
  }
 },
 "nbformat": 4,
 "nbformat_minor": 5
}
